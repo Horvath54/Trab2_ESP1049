{
  "nbformat": 4,
  "nbformat_minor": 0,
  "metadata": {
    "colab": {
      "name": "Implementacao_voltimetro.ipynb",
      "provenance": [],
      "toc_visible": true,
      "authorship_tag": "ABX9TyPZOUDxcaSPokc289P2axH+"
    },
    "kernelspec": {
      "name": "python3",
      "display_name": "Python 3"
    }
  },
  "cells": [
    {
      "cell_type": "markdown",
      "metadata": {
        "id": "3b63Tgd1I2fr"
      },
      "source": [
        "# Simulação de um voltímetro digital\n",
        "\n",
        "## Autores: Artur Lima Rios, Rafael Pires Horvath e Roberta Stefanelo\n",
        "\n",
        "- Implementar um algoritmo para medição digital de tensão baseado em um conversor AD por aproximações sucessivas.\n",
        "- A implementação pode ser baseada apenas na lógica de conversão AD (C, Python, matlab, etc) OU por meio de simulação utilizando blocos lógicos de componentes reais (Simulink, PSIM, etc).  \n",
        "- Validar o algoritmo implementado.\n",
        "- Elaborar um documento no formato PDF contendo o código e resultados do sistema implementado. Não é necessário referencial teórico, apenas resultados obtidos.\n"
      ]
    },
    {
      "cell_type": "code",
      "metadata": {
        "colab": {
          "base_uri": "https://localhost:8080/"
        },
        "id": "F2BnnSQSIk7T",
        "outputId": "35148a21-dd17-40dc-fcbb-de5f6805a776"
      },
      "source": [
        "import numpy as np                                                              #Bibliotecas\n",
        "import matplotlib.pyplot as plt\n",
        "\n",
        "\n",
        "def resolucao(x,y):                                                             #Define resolução do voltímetro.\n",
        "    return [x/(2**y), y]\n",
        "\n",
        "\n",
        "def comparador(x,y):                                                            #Função comparadora entre \"x\", que representa o Vin, e \"y\" que é a retorno.\n",
        "    if x < y:\n",
        "        return 0b0\n",
        "    else:\n",
        "        return 0b1\n",
        "    \n",
        "def DAC(x,y):                                                                   #Função do conversor digital para analógico.\n",
        "    analog = 0\n",
        "    x = str(x)\n",
        "    x = x[::-1]\n",
        "    tam = len(x)\n",
        "    for i in range(tam):\n",
        "        if x[i] == \"1\":\n",
        "            analog = analog + 2**i\n",
        "    return analog*y\n",
        "\n",
        "parametros = resolucao(5,4)             \n",
        "\n",
        "Vin = 3.2\n",
        "\n",
        "ib = 0b0\n",
        "\n",
        "id = 0\n",
        "\n",
        "if Vin > parametros[0]*2**parametros[1]:                                        #Contador binário\n",
        "    print(\"OL\")\n",
        "else:\n",
        "    while comparador(Vin,id):\n",
        "        ib = ib + 0b1\n",
        "        id = DAC(ib,parametros[0])\n",
        "    print(id-parametros[0])\n",
        "        \n"
      ],
      "execution_count": 2,
      "outputs": [
        {
          "output_type": "stream",
          "text": [
            "3.125\n"
          ],
          "name": "stdout"
        }
      ]
    },
    {
      "cell_type": "markdown",
      "metadata": {
        "id": "qjG2iyzKIwmd"
      },
      "source": [
        ""
      ]
    }
  ]
}