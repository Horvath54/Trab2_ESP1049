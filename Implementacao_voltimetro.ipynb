{
  "nbformat": 4,
  "nbformat_minor": 0,
  "metadata": {
    "colab": {
      "name": "Implementacao_voltimetro.ipynb",
      "provenance": [],
      "toc_visible": true,
      "authorship_tag": "ABX9TyOTcyKYLQ+T7h5JBiNcf4Rs"
    },
    "kernelspec": {
      "name": "python3",
      "display_name": "Python 3"
    }
  },
  "cells": [
    {
      "cell_type": "markdown",
      "metadata": {
        "id": "3b63Tgd1I2fr"
      },
      "source": [
        "# Simulação de um voltímetro digital\n",
        "\n",
        "## Autores: Artur Lima Rios, Rafael Pires Horvath e Roberta Stefanelo\n",
        "\n",
        "- Implementar um algoritmo para medição digital de tensão baseado em um conversor AD por aproximações sucessivas.\n",
        "- A implementação pode ser baseada apenas na lógica de conversão AD (C, Python, matlab, etc) OU por meio de simulação utilizando blocos lógicos de componentes reais (Simulink, PSIM, etc).  \n",
        "- Validar o algoritmo implementado.\n",
        "- Elaborar um documento no formato PDF contendo o código e resultados do sistema implementado. Não é necessário referencial teórico, apenas resultados obtidos.\n"
      ]
    },
    {
      "cell_type": "code",
      "metadata": {
        "colab": {
          "base_uri": "https://localhost:8080/"
        },
        "id": "F2BnnSQSIk7T",
        "outputId": "1c7d6ffd-5934-4563-a671-545b31a5df3b"
      },
      "source": [
        "import numpy as np                                                              #Bibliotecas\n",
        "import matplotlib.pyplot as plt\n",
        "\n",
        "\n",
        "def resolucao(x,y):                                                             #Define resolução do voltímetro.\n",
        "    return [x/(2.**y), y]\n",
        "\n",
        "\n",
        "def comparador(x,y):                                                            #Função comparadora entre \"x\", que representa o Vin, e \"y\" que é a retorno.\n",
        "    if x < y:\n",
        "        return 0b0\n",
        "    else:\n",
        "        return 0b1\n",
        "    \n",
        "def DAC(x,y):                                                                   #Função do conversor digital para analógico.\n",
        "    analog = 0\n",
        "    x = str(x)\n",
        "    x = x[::-1]\n",
        "    tam = len(x)\n",
        "    for i in range(tam):\n",
        "        if x[i] == \"1\":\n",
        "            analog = analog + 2**i\n",
        "    return analog*y\n",
        "\n",
        "processadorBits = eval(input('Quantidade de bits do processador (4, 8 ou 16): '))\n",
        "\n",
        "tensaoRef = eval(input('Tensão de referência (3.3V ou 5V): '))\n",
        "\n",
        "Vin = eval(input('Tensão medida após mudança de escala, filtragem etc.: '))\n",
        "\n",
        "parametros = resolucao(tensaoRef,processadorBits)       \n",
        "\n",
        "ib = 0b0\n",
        "\n",
        "id = 0\n",
        "\n",
        "if Vin > tensaoRef:                                        #Contador binário\n",
        "    print(\"OL\")\n",
        "else:\n",
        "    while comparador(Vin,id):\n",
        "        ib = ib + 0b1\n",
        "        id = DAC(ib,parametros[0])\n",
        "    result = round(id-parametros[0],2)\n",
        "    print(\"Tensão no visor: \",result)\n",
        "        \n"
      ],
      "execution_count": 15,
      "outputs": [
        {
          "output_type": "stream",
          "text": [
            "Quantidade de bits do processador (4, 8 ou 16): 4\n",
            "Tensão de referência (3.3V ou 5V): 5\n",
            "Tensão medida após mudança de escala, filtragem etc.: 4.7\n",
            "Tensão no visor:  4.69\n"
          ],
          "name": "stdout"
        }
      ]
    }
  ]
}